{
 "cells": [
  {
   "cell_type": "markdown",
   "metadata": {},
   "source": [
    "# Proyecto: Exploración de datos"
   ]
  },
  {
   "cell_type": "code",
   "execution_count": 2,
   "metadata": {},
   "outputs": [],
   "source": [
    "#conda install keras"
   ]
  },
  {
   "cell_type": "code",
   "execution_count": 27,
   "metadata": {},
   "outputs": [
    {
     "name": "stdout",
     "output_type": "stream",
     "text": [
      "C:\\Users\\thoma\\Documents\\GitHub\\Proyecto-EL4106-\n"
     ]
    }
   ],
   "source": [
    "import numpy as np\n",
    "import pandas as pd\n",
    "import os, sys\n",
    "import matplotlib.pyplot as plt\n",
    "import matplotlib.image as mpimage\n",
    "from scipy.misc import imresize, imsave\n",
    "import json\n",
    "from copy import deepcopy\n",
    "from sklearn.model_selection import train_test_split\n",
    "from time import time #importamos la función time para capturar tiempos\n",
    "\n",
    "print(os.path.abspath('.'))\n",
    "\n",
    "import keras\n",
    "from keras.datasets import mnist\n",
    "from keras.models import *\n",
    "from keras.layers import Dense, Dropout, Flatten\n",
    "from keras.layers import Conv2D, MaxPooling2D"
   ]
  },
  {
   "cell_type": "code",
   "execution_count": 4,
   "metadata": {},
   "outputs": [
    {
     "name": "stdout",
     "output_type": "stream",
     "text": [
      ".\\HiTS2013_100k_samples(4_channels)_images_labels.pkl\n"
     ]
    }
   ],
   "source": [
    "print(os.path.join('.','HiTS2013_100k_samples(4_channels)_images_labels.pkl'))"
   ]
  },
  {
   "cell_type": "code",
   "execution_count": 5,
   "metadata": {},
   "outputs": [
    {
     "data": {
      "text/plain": [
       "dict_keys(['images', 'labels'])"
      ]
     },
     "execution_count": 5,
     "metadata": {},
     "output_type": "execute_result"
    }
   ],
   "source": [
    "test_set_filename = 'HiTS2013_100k_samples(4_channels)_images_labels.pkl'\n",
    "\n",
    "data = np.load(test_set_filename)\n",
    "\n",
    "data.keys()"
   ]
  },
  {
   "cell_type": "code",
   "execution_count": 6,
   "metadata": {},
   "outputs": [
    {
     "name": "stdout",
     "output_type": "stream",
     "text": [
      "Imagenes por fenomeno:\n",
      "100000\n",
      "Etiqueta del primer dato:\n",
      "0\n",
      "Dimension de cada imagen:\n"
     ]
    },
    {
     "data": {
      "text/plain": [
       "(21, 21)"
      ]
     },
     "execution_count": 6,
     "metadata": {},
     "output_type": "execute_result"
    }
   ],
   "source": [
    "#print(type(data[\"images\"][1]))\n",
    "print('Imagenes por fenomeno:')\n",
    "print(len(data[\"images\"]))\n",
    "print('Etiqueta del primer dato:')\n",
    "print(data[\"labels\"][0])\n",
    "print('Dimension de cada imagen:')\n",
    "data[\"images\"][1][:,:,0].shape"
   ]
  },
  {
   "cell_type": "markdown",
   "metadata": {},
   "source": [
    "Cada imagen es de 21x21, con cuatro dimensiones que serían cada canal. Se podría hacer el experimento de ver que canal concventra mayor información y si en verdad hay uno no más que apaña para entrenar."
   ]
  },
  {
   "cell_type": "code",
   "execution_count": 7,
   "metadata": {},
   "outputs": [
    {
     "name": "stdout",
     "output_type": "stream",
     "text": [
      "La clase es 1, es decir, si es supernova.\n"
     ]
    },
    {
     "data": {
      "image/png": "[encoded data removed]",
      "text/plain": [
       "<Figure size 432x288 with 4 Axes>"
      ]
     },
     "metadata": {
      "needs_background": "light"
     },
     "output_type": "display_data"
    }
   ],
   "source": [
    "#acá se muestran las imagenes del priemer dato\n",
    "X0 = data[\"images\"][3][:,:,0]\n",
    "X1 = data[\"images\"][3][:,:,1]\n",
    "X2 = data[\"images\"][3][:,:,2]\n",
    "X3 = data[\"images\"][3][:,:,3]# sample 2D array\n",
    "\n",
    "\n",
    "fig, axs = plt.subplots(2, 2)\n",
    "axs[0, 0].imshow(X0, cmap=\"gray\")\n",
    "axs[0, 0].set_title('Template')\n",
    "axs[0, 1].imshow(X1, cmap=\"gray\")\n",
    "axs[0, 1].set_title('Science')\n",
    "axs[1, 0].imshow(X2, cmap=\"gray\")\n",
    "axs[1, 0].set_title('Difference')\n",
    "axs[1, 1].imshow(X2, cmap=\"gray\")\n",
    "axs[1, 1].set_title('SNR Difference')\n",
    "\n",
    "# Hide x labels and tick labels for top plots and y ticks for right plots.\n",
    "for ax in axs.flat:\n",
    "    ax.label_outer()\n",
    "\n",
    "print('La clase es '+str(data[\"labels\"][3])+', es decir, si es supernova.')"
   ]
  },
  {
   "cell_type": "markdown",
   "metadata": {},
   "source": [
    "Para entrenar la red se deben procesar los datos para ser ingresados al clasificador. Si utilizamos una red convolucional, sirve que cada dato sea representado mediante cada una de sus fotos propiamente tal, a modo de feature map. Si se usa MLP, se cancatenaran vectores que contengan 528 elemento (cada imagen hecha vector) para generar una capa de 528x4 entradas.\n",
    "\n",
    "Lo más coneveniente en este caso será usar una red convolucional, la forma del problema sugiere que con una red de este tipo habrá un mayor desempeño."
   ]
  },
  {
   "cell_type": "code",
   "execution_count": 8,
   "metadata": {},
   "outputs": [],
   "source": [
    "#prcesamiento de datos\n",
    "#En esta parte se harán experimentos solo con 1000 elementos del dataset, se puede cambiar\n",
    "num=80000"
   ]
  },
  {
   "cell_type": "code",
   "execution_count": 9,
   "metadata": {},
   "outputs": [
    {
     "data": {
      "text/plain": [
       "<matplotlib.image.AxesImage at 0x2022eec36a0>"
      ]
     },
     "execution_count": 9,
     "metadata": {},
     "output_type": "execute_result"
    },
    {
     "data": {
      "image/png": "[encoded data removed]",
      "text/plain": [
       "<Figure size 432x288 with 1 Axes>"
      ]
     },
     "metadata": {
      "needs_background": "light"
     },
     "output_type": "display_data"
    }
   ],
   "source": [
    "#Es importante hacerle el zero padding para tener mejor desempeño en una posible red convolucional\n",
    "#Así también los mapas de oclusión habrán sido calculados con la misma cantidad de 'tapadas' para cada pixel\n",
    "#Acá se genera el set con el que se entrenará el clasificador (sin oclusión todavía), a partir de una porciín del dict\n",
    "\n",
    "def zero_pad(dataset,zero=True):\n",
    "    datos_proc=[]\n",
    "    if zero==True:\n",
    "        for i in range(dataset.shape[0]):\n",
    "            dato=dataset[i]#dato son las 4 fotos en 21x21x4\n",
    "            dato=np.pad(dato, pad_width=1, mode='constant', constant_values=0)\n",
    "            f_imag=dato[:,:,1:5]#Se retiran dos capas que se hicieron de ceros en las tapas del cubo\n",
    "            datos_proc.append(f_imag)\n",
    "        return datos_proc\n",
    "    else:\n",
    "        for i in range(dataset.shape[0]):\n",
    "            dato=dataset[i]#dato son las 4 fotos en 21x21x4\n",
    "            datos_proc.append(dato)\n",
    "        return datos_proc\n",
    "def labels(dataset):\n",
    "    labels=[]\n",
    "    for i in range(dataset.shape[0]):\n",
    "        label=dataset[i]\n",
    "        labels.append(label)\n",
    "    return labels\n",
    "    \n",
    "datos_proce=zero_pad(data[\"images\"][0:num])#este contiene las fotos con el zero pad\n",
    "labels_proce=labels(data[\"labels\"][0:num])\n",
    "#ejemplo\n",
    "datos_sPad=zero_pad(data[\"images\"][0:num],False)#este contiene las fotos sin el zero pad\n",
    "labels_proce=labels(data[\"labels\"][0:num])\n",
    "plt.imshow(datos_sPad[3][:,:,1], cmap=\"gray\")"
   ]
  },
  {
   "cell_type": "code",
   "execution_count": 10,
   "metadata": {},
   "outputs": [],
   "source": [
    "#Esta clase tiene por fin generar lás imágenes con sectores tapados\n",
    "class OcclusionGenerator(object):\n",
    "    #img es el arreglo numpy que contiene las\n",
    "    #boxsize es el tamaño del parche\n",
    "    #step es el paso que avanza el parche\n",
    "    def __init__(self, img, boxsize=3, step=1, prepocess=True):\n",
    "        ''' Initializations '''\n",
    "        self.img = img\n",
    "        self.boxsize = boxsize\n",
    "        self.step = step \n",
    "        #creo que son las posiciones del parche\n",
    "        self.i = 0\n",
    "        self.j = 0\n",
    "    \n",
    "\n",
    "    def flow(self):\n",
    "        ''' Return a single occluded image and its location '''\n",
    "        if self.i + self.boxsize > self.img.shape[0]:\n",
    "            return None, None, None\n",
    "        \n",
    "        retImg = np.copy(self.img)\n",
    "        retImg[self.i:self.i+self.boxsize, self.j:self.j+self.boxsize] = 0.0 \n",
    "\n",
    "        old_i = deepcopy(self.i) \n",
    "        old_j = deepcopy(self.j)\n",
    "        \n",
    "        # update indices\n",
    "        self.j = self.j + self.step\n",
    "        if self.j+self.boxsize>self.img.shape[1]: #reached end\n",
    "            self.j = 0 # reset j\n",
    "            self.i = self.i + self.step # go to next row\n",
    "        \n",
    "        \n",
    "        return retImg, old_i, old_j\n",
    "    def print(self):\n",
    "        X0 = self.img[:,:,0]\n",
    "        X1 = self.img[:,:,1]\n",
    "        X2 = self.img[:,:,2]\n",
    "        X3 = self.img[:,:,3]# sample 2D array\n",
    "\n",
    "\n",
    "        fig, axs = plt.subplots(2, 2)\n",
    "        axs[0, 0].imshow(X0, cmap=\"gray\")\n",
    "        axs[0, 0].set_title('Template')\n",
    "        axs[0, 1].imshow(X1, cmap=\"gray\")\n",
    "        axs[0, 1].set_title('Science')\n",
    "        axs[1, 0].imshow(X2, cmap=\"gray\")\n",
    "        axs[1, 0].set_title('Difference')\n",
    "        axs[1, 1].imshow(X2, cmap=\"gray\")\n",
    "        axs[1, 1].set_title('SNR Difference')\n",
    "\n",
    "# Hide x labels and tick labels for top plots and y ticks for right plots.\n",
    "        for ax in axs.flat:\n",
    "            ax.label_outer()\n",
    "    \n",
    "    def getimg(self):\n",
    "        return self.img\n",
    "    \n",
    "    def gen_minibatch(self, batchsize=10):\n",
    "        ''' Returns a minibatch of images of size <=batchsize '''\n",
    "        \n",
    "        # list of occluded images\n",
    "        occ_imlist = []\n",
    "        locations = []\n",
    "        for i in range(batchsize):\n",
    "            occimg, i, j = self.flow()\n",
    "            if occimg is not None:\n",
    "                occ_imlist.append(occimg)\n",
    "                locations.append([i,j])\n",
    "\n",
    "        if len(occ_imlist)==0: # no data\n",
    "            return None,None\n",
    "        else:\n",
    "            # convert list to numpy array and pre-process input (0 mean centering)\n",
    "            x=reformat(occ_imlist)\n",
    "            return x, locations\n"
   ]
  },
  {
   "cell_type": "code",
   "execution_count": 11,
   "metadata": {},
   "outputs": [
    {
     "name": "stdout",
     "output_type": "stream",
     "text": [
      "<class '__main__.OcclusionGenerator'>\n",
      "<class 'numpy.ndarray'>\n",
      "(21, 21, 4)\n",
      "(21, 21, 4)\n"
     ]
    },
    {
     "data": {
      "image/png": "[encoded data removed]",
      "text/plain": [
       "<Figure size 432x288 with 4 Axes>"
      ]
     },
     "metadata": {
      "needs_background": "light"
     },
     "output_type": "display_data"
    }
   ],
   "source": [
    "# testing out the occlusion generator class\n",
    "img = datos_sPad[1]#así esta en 21x21x4\n",
    "occ = OcclusionGenerator(img)\n",
    "parche=occ.flow()\n",
    "im=parche[0]\n",
    "print(type(occ))\n",
    "print(type(parche[0]))\n",
    "print(im.shape)\n",
    "occList = []#Esta lista va guardando las imagenes a medida que el parche va avanzando\n",
    "#Se tiene preconfigurado en la clase un paso de 1 y un parche de 2x2\n",
    "for i in range(528):\n",
    "    occList.append(occ.flow()[0])\n",
    "#ejemplo de imagen ocluida\n",
    "example=OcclusionGenerator(occList[200])\n",
    "print(occList[200].shape)\n",
    "example.print()"
   ]
  },
  {
   "cell_type": "code",
   "execution_count": 12,
   "metadata": {},
   "outputs": [
    {
     "data": {
      "text/plain": [
       "(21, 21, 4)"
      ]
     },
     "execution_count": 12,
     "metadata": {},
     "output_type": "execute_result"
    },
    {
     "data": {
      "image/png": "[encoded data removed]",
      "text/plain": [
       "<Figure size 432x288 with 4 Axes>"
      ]
     },
     "metadata": {
      "needs_background": "light"
     },
     "output_type": "display_data"
    }
   ],
   "source": [
    "#Aca se crea una función para recibir un dato del diccionario data y devolver el set de imagenes con todas las oclusiones\n",
    "#si se cambia el paso y el tamaño del filtro hay que alterar esta función para que calce (creo)\n",
    "def OcGen(img):\n",
    "    occ = OcclusionGenerator(img)\n",
    "    occList = []#Esta lista va guardando las imagenes a medida que el parche va avanzando\n",
    "#Se tiene preconfigurado en la clase un paso de 1 y un parche de 3x3\n",
    "    for i in range(528):#aumentar este parametro se presta para data augmentation\n",
    "        occList.append(occ.flow()[0])\n",
    "    return occList\n",
    "#Ejemplo de la imagen 350 del set de imagenes ocluidas del primer dato\n",
    "example=OcclusionGenerator(OcGen(datos_sPad[1])[50])\n",
    "example.print()\n",
    "datos_sPad[1].shape"
   ]
  },
  {
   "cell_type": "markdown",
   "metadata": {},
   "source": [
    "# Red a entrenar\n",
    "\n"
   ]
  },
  {
   "cell_type": "code",
   "execution_count": 43,
   "metadata": {},
   "outputs": [
    {
     "name": "stdout",
     "output_type": "stream",
     "text": [
      "Train on 72000 samples, validate on 8000 samples\n",
      "Epoch 1/5\n",
      "72000/72000 [==============================] - 29s 404us/step - loss: 0.1138 - acc: 0.9633 - val_loss: 0.0729 - val_acc: 0.9732\n",
      "Epoch 2/5\n",
      "72000/72000 [==============================] - 25s 353us/step - loss: 0.0701 - acc: 0.9790 - val_loss: 0.0544 - val_acc: 0.9825\n",
      "Epoch 3/5\n",
      "72000/72000 [==============================] - 30s 415us/step - loss: 0.0580 - acc: 0.9828 - val_loss: 0.0408 - val_acc: 0.9870\n",
      "Epoch 4/5\n",
      "72000/72000 [==============================] - 31s 434us/step - loss: 0.0520 - acc: 0.9845 - val_loss: 0.0471 - val_acc: 0.9854\n",
      "Epoch 5/5\n",
      "72000/72000 [==============================] - 29s 403us/step - loss: 0.0480 - acc: 0.9855 - val_loss: 0.0385 - val_acc: 0.9881\n",
      "El tiempo de ejecucion fue: 145.2187922000885\n"
     ]
    }
   ],
   "source": [
    "#Antes de entrenar hay que generar los conjuntos de entrenamiento y test. El de entrenamiento tendrá un 0.9 de los datos\n",
    "x_train, x_test, y_train, y_test = train_test_split(datos_sPad, labels_proce, test_size=0.1, random_state=42)\n",
    "x_train=np.asarray(x_train)\n",
    "y_train=np.asarray(y_train)\n",
    "x_test=np.asarray(x_test)\n",
    "y_test=np.asarray(y_test)\n",
    "\n",
    "#Construccion clasificador\n",
    "classifier = Sequential()\n",
    "classifier.add(Conv2D(16, (3, 3), input_shape = (21, 21, 4), activation = 'relu'))\n",
    "classifier.add(MaxPooling2D(pool_size = (2, 2)))\n",
    "classifier.add(Flatten())\n",
    "classifier.add(Dense(units = 128, activation = 'relu'))\n",
    "classifier.add(Dropout(0.5))\n",
    "classifier.add(Dense(units = 1, activation = 'sigmoid'))\n",
    "classifier.compile(optimizer = 'adam', loss = 'binary_crossentropy', metrics = ['accuracy'])\n",
    "\n",
    "#Entrenamiento\n",
    "num_epoch = 5\n",
    "tiempo_inicial = time() \n",
    "class_log = classifier.fit(x_train, y_train,epochs=num_epoch,\n",
    "          validation_data=(x_test, y_test))\n",
    "tiempo_final = time() \n",
    "tiempo_ejecucion = tiempo_final - tiempo_inicial\n",
    " \n",
    "print('El tiempo de ejecucion fue:',tiempo_ejecucion)\n"
   ]
  },
  {
   "cell_type": "code",
   "execution_count": 14,
   "metadata": {},
   "outputs": [
    {
     "name": "stdout",
     "output_type": "stream",
     "text": [
      "_________________________________________________________________\n",
      "Layer (type)                 Output Shape              Param #   \n",
      "=================================================================\n",
      "conv2d_1 (Conv2D)            (None, 19, 19, 16)        592       \n",
      "_________________________________________________________________\n",
      "max_pooling2d_1 (MaxPooling2 (None, 9, 9, 16)          0         \n",
      "_________________________________________________________________\n",
      "flatten_1 (Flatten)          (None, 1296)              0         \n",
      "_________________________________________________________________\n",
      "dense_1 (Dense)              (None, 128)               166016    \n",
      "_________________________________________________________________\n",
      "dropout_1 (Dropout)          (None, 128)               0         \n",
      "_________________________________________________________________\n",
      "dense_2 (Dense)              (None, 1)                 129       \n",
      "=================================================================\n",
      "Total params: 166,737\n",
      "Trainable params: 166,737\n",
      "Non-trainable params: 0\n",
      "_________________________________________________________________\n",
      "None\n"
     ]
    }
   ],
   "source": [
    "print(classifier.summary())"
   ]
  },
  {
   "cell_type": "code",
   "execution_count": 42,
   "metadata": {},
   "outputs": [
    {
     "name": "stdout",
     "output_type": "stream",
     "text": [
      "El tiempo de ejecucion fue: 0.01793360710144043\n",
      "[[0.99935323]]\n",
      "[1 0 1 1 0 0 0 1 0 1]\n"
     ]
    }
   ],
   "source": [
    "#un par de predicciones\n",
    "\n",
    "tiempo_inicial = time() \n",
    "preds = classifier.predict(x_test[p:p+1])\n",
    "tiempo_final = time() \n",
    "tiempo_ejecucion = tiempo_final - tiempo_inicial\n",
    " \n",
    "print('El tiempo de ejecucion fue:',tiempo_ejecucion)\n",
    "p=157\n",
    "print(preds)\n",
    "print(y_test[p:p+10])"
   ]
  },
  {
   "cell_type": "code",
   "execution_count": 16,
   "metadata": {},
   "outputs": [],
   "source": [
    "# this function takes a list of heatmaps and merges them into one single heatmap\n",
    "def post_process(heatmap):\n",
    "\n",
    "    # postprocessing\n",
    "    total = heatmap[0]\n",
    "    for val in heatmap[1:]:\n",
    "        total = total + val\n",
    "    \n",
    "    return total"
   ]
  },
  {
   "cell_type": "code",
   "execution_count": 17,
   "metadata": {},
   "outputs": [],
   "source": [
    "#### This is the meat of the program. It generates the heatmap for the given image location ####\n",
    "#### Las imagenes seran sacadas del conjunto de test, tenerlo corrido antes de ejecutar\n",
    "def gen_heatmap(num, boxsize=2, step=1, verbose=True, savetodisk=False):\n",
    "\n",
    "    # load up image\n",
    "    img=x_test[num]\n",
    "    if verbose:\n",
    "        plt.imshow(img); plt.axis(\"off\")\n",
    "        plt.show()\n",
    "\n",
    "    # classify image (w/o occlusions)\n",
    "    model = classifier\n",
    "    preds = model.predict(x_test[num:num+1])\n",
    "    correct_class_index = np.argmax(preds[0])\n",
    "\n",
    "    correct_class_label = y_test[num]\n",
    "    if verbose:\n",
    "        print(correct_class_label)\n",
    "\n",
    "    # generate occluded images and location of mask\n",
    "    occ = OcclusionGenerator(img, boxsize, step, True)\n",
    "\n",
    "    # scores of occluded image\n",
    "    heatmap = []\n",
    "    index = 0\n",
    "    while True:\n",
    "\n",
    "        # get minibatch of data\n",
    "        x, locations = occ.gen_minibatch(batchsize=10)\n",
    "\n",
    "        if x is not None:\n",
    "\n",
    "            #predict \n",
    "            op = model.predict(x)\n",
    "\n",
    "            #unpack prediction values \n",
    "            for i in range(x.shape[0]):\n",
    "                score = op[i][correct_class_index]\n",
    "                r,c = locations[i] \n",
    "                scoremap = np.zeros((21,21))\n",
    "                scoremap[r : r+occ.boxsize, c : c+occ.boxsize] = score\n",
    "                heatmap.append(scoremap)\n",
    "\n",
    "            if verbose:\n",
    "                print('..minibatch completed')\n",
    "        else:\n",
    "            break\n",
    "\n",
    "    return heatmap, correct_class_index, correct_class_label"
   ]
  },
  {
   "cell_type": "code",
   "execution_count": 18,
   "metadata": {},
   "outputs": [],
   "source": [
    "def reformat(input):\n",
    "\n",
    "    x = np.zeros((len(input), 21, 21, 4))#nuevo arreglo\n",
    "    for i in range(len(input)):\n",
    "        x[i, :,:,0] = input[i][:,:,0]\n",
    "        x[i, :,:,1] = input[i][:,:,1]\n",
    "        x[i, :,:,2] = input[i][:,:,2]\n",
    "        x[i, :,:,3] = input[i][:,:,3]\n",
    "\n",
    "    return x\n",
    "#ex_data=reformat(data[\"images\"][0:num])\n",
    "\n",
    "#print('Los datos quedan de la forma: '+str(ex_data.shape))\n",
    "#Se podria incluir una normalización, pero de momento este sera el formato de los datos\n"
   ]
  },
  {
   "cell_type": "code",
   "execution_count": 53,
   "metadata": {},
   "outputs": [
    {
     "name": "stdout",
     "output_type": "stream",
     "text": [
      "El tiempo de ejecucion fue: 0.10070657730102539\n",
      "Clase real: 0\n"
     ]
    },
    {
     "data": {
      "image/png": "[encoded data removed]",
      "text/plain": [
       "<Figure size 432x288 with 2 Axes>"
      ]
     },
     "metadata": {
      "needs_background": "light"
     },
     "output_type": "display_data"
    }
   ],
   "source": [
    "# run the program on image \n",
    "nume=0\n",
    "\n",
    "tiempo_inicial = time() \n",
    "print('El tiempo de ejecucion fue:',tiempo_ejecucion)\n",
    "heatmapList, index, label = gen_heatmap(nume,verbose=False)\n",
    "print('Clase real: '+str(y_test[nume]))\n",
    "processed   = post_process(heatmapList)\n",
    "tiempo_final = time() \n",
    "tiempo_ejecucion = tiempo_final - tiempo_inicial\n",
    " \n",
    "\n",
    "\n",
    "%matplotlib inline\n",
    "img = x_test[nume]\n",
    "plt.subplot(121)\n",
    "plt.imshow(img[:,:,3],cmap=\"gray\"); plt.axis(\"off\")\n",
    "plt.title(\"Pred: \"+str(classifier.predict(x_test[nume:nume+1])))\n",
    "plt.subplot(122)\n",
    "plt.imshow(processed); plt.axis(\"off\")\n",
    "plt.title('Mapa de oclusion')\n",
    "plt.show()"
   ]
  },
  {
   "cell_type": "code",
   "execution_count": 20,
   "metadata": {},
   "outputs": [
    {
     "name": "stdout",
     "output_type": "stream",
     "text": [
      "Confusion Matrix\n",
      "[[3959    0]\n",
      " [4041    0]]\n",
      "Classification Report\n",
      "              precision    recall  f1-score   support\n",
      "\n",
      "No-supernova       0.49      1.00      0.66      3959\n",
      "   Supernova       0.00      0.00      0.00      4041\n",
      "\n",
      "   micro avg       0.49      0.49      0.49      8000\n",
      "   macro avg       0.25      0.50      0.33      8000\n",
      "weighted avg       0.24      0.49      0.33      8000\n",
      "\n"
     ]
    },
    {
     "name": "stderr",
     "output_type": "stream",
     "text": [
      "C:\\Users\\thoma\\Anaconda3\\lib\\site-packages\\sklearn\\metrics\\classification.py:1143: UndefinedMetricWarning: Precision and F-score are ill-defined and being set to 0.0 in labels with no predicted samples.\n",
      "  'precision', 'predicted', average, warn_for)\n"
     ]
    }
   ],
   "source": [
    "from sklearn.metrics import classification_report, confusion_matrix\n",
    "#Confution Matrix and Classification Report\n",
    "Y_pred = classifier.predict(x_test)\n",
    "y_pred = np.argmax(Y_pred, axis=1)\n",
    "print('Confusion Matrix')\n",
    "print(confusion_matrix(y_test, y_pred))\n",
    "print('Classification Report')\n",
    "target_names = ['No-supernova', 'Supernova']\n",
    "print(classification_report(y_test, y_pred, target_names=target_names))"
   ]
  }
 ],
 "metadata": {
  "kernelspec": {
   "display_name": "Python 3",
   "language": "python",
   "name": "python3"
  },
  "language_info": {
   "codemirror_mode": {
    "name": "ipython",
    "version": 3
   },
   "file_extension": ".py",
   "mimetype": "text/x-python",
   "name": "python",
   "nbconvert_exporter": "python",
   "pygments_lexer": "ipython3",
   "version": "3.7.3"
  }
 },
 "nbformat": 4,
 "nbformat_minor": 2
}
