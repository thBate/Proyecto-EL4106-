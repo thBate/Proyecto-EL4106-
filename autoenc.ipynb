{
 "cells": [
  {
   "cell_type": "markdown",
   "metadata": {},
   "source": [
    "# Autoencoder"
   ]
  },
  {
   "cell_type": "code",
   "execution_count": 120,
   "metadata": {},
   "outputs": [
    {
     "name": "stdout",
     "output_type": "stream",
     "text": [
      "C:\\Users\\thoma\\Documents\\GitHub\\Proyecto-EL4106-\n"
     ]
    }
   ],
   "source": [
    "import numpy as np\n",
    "import pandas as pd\n",
    "import os, sys\n",
    "import matplotlib.pyplot as plt\n",
    "import matplotlib.image as mpimage\n",
    "from scipy.misc import imresize, imsave\n",
    "import json\n",
    "from copy import deepcopy\n",
    "from sklearn.model_selection import train_test_split\n",
    "from time import time #importamos la función time para capturar tiempos\n",
    "\n",
    "print(os.path.abspath('.'))\n",
    "from matplotlib import pyplot\n",
    "\n",
    "import keras\n",
    "from keras.datasets import mnist\n",
    "from keras.models import *\n",
    "from keras.layers import Dense, Dropout, Flatten\n",
    "from keras.layers import Conv2D, MaxPooling2D, ZeroPadding2D, UpSampling2D\n",
    "from keras.models import Model\n",
    "from keras import backend as K\n",
    "from keras.callbacks import TensorBoard\n",
    "from keras.callbacks import EarlyStopping"
   ]
  },
  {
   "cell_type": "code",
   "execution_count": 121,
   "metadata": {},
   "outputs": [],
   "source": [
    "#Se cargan los datos de entrenamiento\n",
    "imags_super = np.load(\"super_orig.pickle\")\n",
    "mapas_super = np.load(\"super_oclu.pickle\")\n",
    "\n",
    "imags_no = np.load(\"no_orig.pickle\")\n",
    "mapas_no = np.load(\"no_oclu.pickle\")"
   ]
  },
  {
   "cell_type": "code",
   "execution_count": 122,
   "metadata": {},
   "outputs": [
    {
     "data": {
      "text/plain": [
       "(21, 21)"
      ]
     },
     "execution_count": 122,
     "metadata": {},
     "output_type": "execute_result"
    }
   ],
   "source": [
    "mapas_super[1].shape"
   ]
  },
  {
   "cell_type": "code",
   "execution_count": 139,
   "metadata": {},
   "outputs": [],
   "source": [
    "x=[]\n",
    "input_img = Input(shape=(25, 25, 4))  # adapt this if using `channels_first` image data format\n",
    "\n",
    "x = Conv2D(32, (4, 4), input_shape = (25, 25, 4), padding=\"same\",strides=(1, 1), activation = 'relu')(input_img)\n",
    "x = Conv2D(32, (3, 3), padding=\"same\", activation = 'relu')(x)\n",
    "x = MaxPooling2D((2, 2), padding='same')(x)\n",
    "x = Conv2D(64, (3, 3),padding=\"same\", activation = 'relu')(x)\n",
    "x = Conv2D(64, (3, 3),padding=\"same\", activation = 'relu')(x)\n",
    "x = Conv2D(64, (3, 3),padding=\"same\", activation = 'relu')(x)\n",
    "encoded = MaxPooling2D((2, 2), padding='same')(x)\n",
    "\n",
    "# at this point the representation is (4, 4, 8) i.e. 128-dimensional\n",
    "\n",
    "x = Conv2D(64, (3, 3),padding=\"same\", activation = 'relu')(encoded)\n",
    "x = UpSampling2D((2, 2))(x)\n",
    "x = Conv2D(64, (3, 3),padding=\"same\", activation = 'relu')(x)\n",
    "x = Conv2D(64, (3, 3),padding=\"valid\", activation = 'relu')(x)\n",
    "x =Conv2D(32, (3, 3), padding=\"same\", activation = 'relu')(x)\n",
    "x = UpSampling2D((2, 2))(x)\n",
    "x =Conv2D(32, (4, 4), input_shape = (25, 25, 4), padding=\"valid\",strides=(1, 1), activation = 'relu')(x)\n",
    "decoded = Conv2D(1, (2, 2), activation='relu',padding='same')(x)\n",
    "#decoded = decoded[:,:21,:21,:]\n",
    "\n",
    "autoencoder = Model(input_img, decoded)\n",
    "es = EarlyStopping(monitor='val_loss', mode='min', verbose=1, patience=3)\n",
    "\n",
    "autoencoder.compile(optimizer='adam', loss='mse')"
   ]
  },
  {
   "cell_type": "code",
   "execution_count": 124,
   "metadata": {},
   "outputs": [
    {
     "name": "stdout",
     "output_type": "stream",
     "text": [
      "_________________________________________________________________\n",
      "Layer (type)                 Output Shape              Param #   \n",
      "=================================================================\n",
      "input_10 (InputLayer)        (None, 25, 25, 4)         0         \n",
      "_________________________________________________________________\n",
      "conv2d_100 (Conv2D)          (None, 25, 25, 32)        2080      \n",
      "_________________________________________________________________\n",
      "conv2d_101 (Conv2D)          (None, 25, 25, 32)        9248      \n",
      "_________________________________________________________________\n",
      "max_pooling2d_19 (MaxPooling (None, 13, 13, 32)        0         \n",
      "_________________________________________________________________\n",
      "conv2d_102 (Conv2D)          (None, 13, 13, 64)        18496     \n",
      "_________________________________________________________________\n",
      "conv2d_103 (Conv2D)          (None, 13, 13, 64)        36928     \n",
      "_________________________________________________________________\n",
      "conv2d_104 (Conv2D)          (None, 13, 13, 64)        36928     \n",
      "_________________________________________________________________\n",
      "max_pooling2d_20 (MaxPooling (None, 7, 7, 64)          0         \n",
      "_________________________________________________________________\n",
      "conv2d_105 (Conv2D)          (None, 7, 7, 64)          36928     \n",
      "_________________________________________________________________\n",
      "up_sampling2d_19 (UpSampling (None, 14, 14, 64)        0         \n",
      "_________________________________________________________________\n",
      "conv2d_106 (Conv2D)          (None, 14, 14, 64)        36928     \n",
      "_________________________________________________________________\n",
      "conv2d_107 (Conv2D)          (None, 12, 12, 64)        36928     \n",
      "_________________________________________________________________\n",
      "conv2d_108 (Conv2D)          (None, 12, 12, 32)        18464     \n",
      "_________________________________________________________________\n",
      "up_sampling2d_20 (UpSampling (None, 24, 24, 32)        0         \n",
      "_________________________________________________________________\n",
      "conv2d_109 (Conv2D)          (None, 21, 21, 32)        16416     \n",
      "_________________________________________________________________\n",
      "conv2d_110 (Conv2D)          (None, 21, 21, 1)         129       \n",
      "=================================================================\n",
      "Total params: 249,473\n",
      "Trainable params: 249,473\n",
      "Non-trainable params: 0\n",
      "_________________________________________________________________\n",
      "None\n"
     ]
    }
   ],
   "source": [
    "print(autoencoder.summary())"
   ]
  },
  {
   "cell_type": "code",
   "execution_count": 125,
   "metadata": {},
   "outputs": [],
   "source": [
    "def reformat_imgs(input):\n",
    "\n",
    "    x = np.zeros((len(input), 25, 25, 4))#nuevo arreglo\n",
    "    for i in range(len(input)):\n",
    "        x[i, :,:,0] = input[i][:,:,0]\n",
    "        x[i, :,:,1] = input[i][:,:,1]\n",
    "        x[i, :,:,2] = input[i][:,:,2]\n",
    "        x[i, :,:,3] = input[i][:,:,3]\n",
    "\n",
    "    return x\n",
    "\n",
    "\n",
    "def reformat_mapas(input):\n",
    "    x = np.zeros((len(input), 21, 21, 1))#nuevo arreglo\n",
    "    for i in range(len(input)):\n",
    "        x[i, :,:,0] = input[i][:,:]\n",
    "    return x\n"
   ]
  },
  {
   "cell_type": "code",
   "execution_count": 126,
   "metadata": {},
   "outputs": [],
   "source": [
    "from keras.datasets import mnist\n",
    "import numpy as np\n",
    "\n",
    "imags=np.concatenate((imags_super, imags_no))\n",
    "mapas=np.concatenate((mapas_super, mapas_no))\n",
    "\n",
    "x_train, x_test, y_train, y_test = train_test_split(imags, mapas, test_size=0.2)\n",
    "\n",
    "x_train=reformat_imgs(x_train)\n",
    "x_test=reformat_imgs(x_test)\n",
    "y_train=reformat_mapas(y_train)\n",
    "y_test=reformat_mapas(y_test)"
   ]
  },
  {
   "cell_type": "code",
   "execution_count": 127,
   "metadata": {},
   "outputs": [
    {
     "data": {
      "text/plain": [
       "(5543, 21, 21, 1)"
      ]
     },
     "execution_count": 127,
     "metadata": {},
     "output_type": "execute_result"
    }
   ],
   "source": [
    "y_test.shape\n"
   ]
  },
  {
   "cell_type": "code",
   "execution_count": 140,
   "metadata": {},
   "outputs": [
    {
     "name": "stdout",
     "output_type": "stream",
     "text": [
      "Train on 22171 samples, validate on 5543 samples\n",
      "Epoch 1/15\n",
      "22171/22171 [==============================] - 101s 5ms/step - loss: 6.3816 - val_loss: 2.1611\n",
      "Epoch 2/15\n",
      "22171/22171 [==============================] - 102s 5ms/step - loss: 1.7255 - val_loss: 1.2119\n",
      "Epoch 3/15\n",
      "22171/22171 [==============================] - 102s 5ms/step - loss: 1.2547 - val_loss: 1.1534\n",
      "Epoch 4/15\n",
      "22171/22171 [==============================] - 100s 4ms/step - loss: 0.8794 - val_loss: 0.9080\n",
      "Epoch 5/15\n",
      "22171/22171 [==============================] - 101s 5ms/step - loss: 0.8013 - val_loss: 0.8918\n",
      "Epoch 6/15\n",
      "22171/22171 [==============================] - 98s 4ms/step - loss: 0.7253 - val_loss: 0.6177\n",
      "Epoch 7/15\n",
      "22171/22171 [==============================] - 99s 4ms/step - loss: 0.7455 - val_loss: 0.5443\n",
      "Epoch 8/15\n",
      "22171/22171 [==============================] - 98s 4ms/step - loss: 0.5752 - val_loss: 0.6015\n",
      "Epoch 9/15\n",
      "22171/22171 [==============================] - 98s 4ms/step - loss: 0.5472 - val_loss: 0.6781\n",
      "Epoch 10/15\n",
      "22171/22171 [==============================] - 98s 4ms/step - loss: 0.5976 - val_loss: 0.5374\n",
      "Epoch 11/15\n",
      "22171/22171 [==============================] - 98s 4ms/step - loss: 0.5406 - val_loss: 0.4708\n",
      "Epoch 12/15\n",
      "22171/22171 [==============================] - 98s 4ms/step - loss: 0.4359 - val_loss: 0.7961\n",
      "Epoch 13/15\n",
      "22171/22171 [==============================] - 101s 5ms/step - loss: 0.4406 - val_loss: 0.4571\n",
      "Epoch 14/15\n",
      "22171/22171 [==============================] - 99s 4ms/step - loss: 0.3973 - val_loss: 0.4282\n",
      "Epoch 15/15\n",
      "22171/22171 [==============================] - 99s 4ms/step - loss: 0.3787 - val_loss: 0.4791\n"
     ]
    }
   ],
   "source": [
    "class_log = autoencoder.fit(x_train, y_train,\n",
    "                epochs=15,\n",
    "                batch_size=64,\n",
    "                validation_data=(x_test, y_test),callbacks=[es])"
   ]
  },
  {
   "cell_type": "code",
   "execution_count": 150,
   "metadata": {},
   "outputs": [
    {
     "data": {
      "image/png": "[encoded data removed]",
      "text/plain": [
       "<Figure size 432x288 with 2 Axes>"
      ]
     },
     "metadata": {
      "needs_background": "light"
     },
     "output_type": "display_data"
    }
   ],
   "source": [
    "\n",
    "%matplotlib inline\n",
    "nume=5\n",
    "img = x_test[nume]\n",
    "target=autoencoder.predict(x_test[nume:nume+1])[0,:,:,0]\n",
    "plt.subplot(121)\n",
    "plt.imshow(img[:,:,1],cmap=\"gray\"); plt.axis(\"off\")\n",
    "plt.title(\"Imagen original\")\n",
    "plt.subplot(122)\n",
    "plt.imshow(target); plt.axis(\"off\")\n",
    "plt.title('Mapa de oclusion')\n",
    "plt.show()\n"
   ]
  },
  {
   "cell_type": "code",
   "execution_count": 142,
   "metadata": {},
   "outputs": [
    {
     "data": {
      "image/png": "[encoded data removed]",
      "text/plain": [
       "<Figure size 432x288 with 1 Axes>"
      ]
     },
     "metadata": {
      "needs_background": "light"
     },
     "output_type": "display_data"
    }
   ],
   "source": [
    "#_, train_acc = autoencoder.evaluate(x_train, y_train, verbose=1)\n",
    "#_, test_acc = autoencoder.evaluate(x_test, y_test, verbose=1)\n",
    "#print('Train: %.3f, Test: %.3f' % (train_acc, test_acc))\n",
    "# plot training history\n",
    "pyplot.plot(class_log.history['loss'], label='train')\n",
    "pyplot.plot(class_log.history['val_loss'], label='test')\n",
    "pyplot.legend()\n",
    "pyplot.show()"
   ]
  },
  {
   "cell_type": "code",
   "execution_count": 143,
   "metadata": {},
   "outputs": [],
   "source": [
    "#######  AUTOENCODER CON LOS PESOS DEL CLASIFICADOR  ########\n",
    "#Se cargan los pesos sacados del clasificador\n",
    "\n",
    "pesos1=np.load(\"pesos1.npy\")\n",
    "pesos2=np.load(\"pesos2.npy\")\n",
    "pesos3=np.load(\"pesos3.npy\")\n",
    "pesos4=np.load(\"pesos4.npy\")\n",
    "pesos5=np.load(\"pesos5.npy\")"
   ]
  },
  {
   "cell_type": "raw",
   "metadata": {},
   "source": []
  },
  {
   "cell_type": "code",
   "execution_count": 144,
   "metadata": {},
   "outputs": [],
   "source": [
    "#Montaje del autoencoder\n",
    "x1=[]\n",
    "input_img1 = Input(shape=(25, 25, 4))  # adapt this if using `channels_first` image data format\n",
    "\n",
    "x1 = Conv2D(32, (4, 4), input_shape = (25, 25, 4), padding=\"same\",strides=(1, 1), activation = 'relu',trainable=False)(input_img1)\n",
    "x1 = Conv2D(32, (3, 3), padding=\"same\", activation = 'relu',trainable=False)(x1)\n",
    "x1 = MaxPooling2D((2, 2), padding='same')(x1)\n",
    "x1 = Conv2D(64, (3, 3),padding=\"same\", activation = 'relu',trainable=False)(x1)\n",
    "x1 = Conv2D(64, (3, 3),padding=\"same\", activation = 'relu',trainable=False)(x1)\n",
    "x1 = Conv2D(64, (3, 3),padding=\"same\", activation = 'relu',trainable=False)(x1)\n",
    "encoded1 = MaxPooling2D((2, 2), padding='same')(x1)\n",
    "\n",
    "# at this point the representation is (4, 4, 8) i.e. 128-dimensional\n",
    "\n",
    "x1 = Conv2D(64, (3, 3),padding=\"same\", activation = 'relu')(encoded1)\n",
    "x1 = UpSampling2D((2, 2))(x1)\n",
    "x1 = Conv2D(64, (3, 3),padding=\"same\", activation = 'relu')(x1)\n",
    "x1 = Conv2D(64, (3, 3),padding=\"valid\", activation = 'relu')(x1)\n",
    "x1 =Conv2D(32, (3, 3), padding=\"same\", activation = 'relu')(x1)\n",
    "x1 = UpSampling2D((2, 2))(x1)\n",
    "x1 =Conv2D(32, (4, 4), input_shape = (25, 25, 4), padding=\"valid\",strides=(1, 1), activation = 'relu')(x1)\n",
    "decoded1 = Conv2D(1, (2, 2), activation='relu',padding='same')(x1)\n",
    "#decoded = decoded[:,:21,:21,:]\n",
    "\n",
    "autoencoder1 = Model(input_img1, decoded1)\n",
    "es = EarlyStopping(monitor='val_loss', mode='min', verbose=1, patience=3)\n",
    "\n",
    "autoencoder1.compile(optimizer='adam', loss='mse')"
   ]
  },
  {
   "cell_type": "code",
   "execution_count": 145,
   "metadata": {},
   "outputs": [
    {
     "name": "stdout",
     "output_type": "stream",
     "text": [
      "_________________________________________________________________\n",
      "Layer (type)                 Output Shape              Param #   \n",
      "=================================================================\n",
      "input_15 (InputLayer)        (None, 25, 25, 4)         0         \n",
      "_________________________________________________________________\n",
      "conv2d_155 (Conv2D)          (None, 25, 25, 32)        2080      \n",
      "_________________________________________________________________\n",
      "conv2d_156 (Conv2D)          (None, 25, 25, 32)        9248      \n",
      "_________________________________________________________________\n",
      "max_pooling2d_29 (MaxPooling (None, 13, 13, 32)        0         \n",
      "_________________________________________________________________\n",
      "conv2d_157 (Conv2D)          (None, 13, 13, 64)        18496     \n",
      "_________________________________________________________________\n",
      "conv2d_158 (Conv2D)          (None, 13, 13, 64)        36928     \n",
      "_________________________________________________________________\n",
      "conv2d_159 (Conv2D)          (None, 13, 13, 64)        36928     \n",
      "_________________________________________________________________\n",
      "max_pooling2d_30 (MaxPooling (None, 7, 7, 64)          0         \n",
      "_________________________________________________________________\n",
      "conv2d_160 (Conv2D)          (None, 7, 7, 64)          36928     \n",
      "_________________________________________________________________\n",
      "up_sampling2d_29 (UpSampling (None, 14, 14, 64)        0         \n",
      "_________________________________________________________________\n",
      "conv2d_161 (Conv2D)          (None, 14, 14, 64)        36928     \n",
      "_________________________________________________________________\n",
      "conv2d_162 (Conv2D)          (None, 12, 12, 64)        36928     \n",
      "_________________________________________________________________\n",
      "conv2d_163 (Conv2D)          (None, 12, 12, 32)        18464     \n",
      "_________________________________________________________________\n",
      "up_sampling2d_30 (UpSampling (None, 24, 24, 32)        0         \n",
      "_________________________________________________________________\n",
      "conv2d_164 (Conv2D)          (None, 21, 21, 32)        16416     \n",
      "_________________________________________________________________\n",
      "conv2d_165 (Conv2D)          (None, 21, 21, 1)         129       \n",
      "=================================================================\n",
      "Total params: 249,473\n",
      "Trainable params: 145,793\n",
      "Non-trainable params: 103,680\n",
      "_________________________________________________________________\n",
      "None\n"
     ]
    }
   ],
   "source": [
    "print(autoencoder1.summary())"
   ]
  },
  {
   "cell_type": "code",
   "execution_count": 146,
   "metadata": {},
   "outputs": [],
   "source": [
    "#Acá se le dan nombres a las capas de interés para cargarle los pesos\n",
    "capa1=autoencoder1.layers[1]\n",
    "capa1.set_weights(pesos1)\n",
    "\n",
    "capa2=autoencoder1.layers[2]\n",
    "capa2.set_weights(pesos2)\n",
    "\n",
    "capa3=autoencoder1.layers[4]\n",
    "capa3.set_weights(pesos3)\n",
    "\n",
    "capa4=autoencoder1.layers[5]\n",
    "capa4.set_weights(pesos4)\n",
    "\n",
    "capa5=autoencoder1.layers[6]\n",
    "capa5.set_weights(pesos5)\n"
   ]
  },
  {
   "cell_type": "code",
   "execution_count": 147,
   "metadata": {},
   "outputs": [
    {
     "data": {
      "text/plain": [
       "<keras.layers.convolutional.Conv2D at 0x26fb083f2e8>"
      ]
     },
     "execution_count": 147,
     "metadata": {},
     "output_type": "execute_result"
    }
   ],
   "source": [
    "capa5"
   ]
  },
  {
   "cell_type": "code",
   "execution_count": 148,
   "metadata": {},
   "outputs": [
    {
     "name": "stdout",
     "output_type": "stream",
     "text": [
      "Train on 22171 samples, validate on 5543 samples\n",
      "Epoch 1/15\n",
      "22171/22171 [==============================] - 76s 3ms/step - loss: 2.4966 - val_loss: 0.6914\n",
      "Epoch 2/15\n",
      "22171/22171 [==============================] - 72s 3ms/step - loss: 0.5719 - val_loss: 0.6433\n",
      "Epoch 3/15\n",
      "22171/22171 [==============================] - 115s 5ms/step - loss: 0.4568 - val_loss: 0.6936\n",
      "Epoch 4/15\n",
      "22171/22171 [==============================] - 190s 9ms/step - loss: 0.3784 - val_loss: 0.4211\n",
      "Epoch 5/15\n",
      "22171/22171 [==============================] - 190s 9ms/step - loss: 0.3170 - val_loss: 0.3338\n",
      "Epoch 6/15\n",
      "22171/22171 [==============================] - 192s 9ms/step - loss: 0.2873 - val_loss: 0.3979\n",
      "Epoch 7/15\n",
      "22171/22171 [==============================] - 152s 7ms/step - loss: 0.2678 - val_loss: 0.4433\n",
      "Epoch 8/15\n",
      "22171/22171 [==============================] - 16414s 740ms/step - loss: 0.2590 - val_loss: 0.3137\n",
      "Epoch 9/15\n",
      "22171/22171 [==============================] - 72s 3ms/step - loss: 0.2421 - val_loss: 0.3080\n",
      "Epoch 10/15\n",
      "22171/22171 [==============================] - 73s 3ms/step - loss: 0.2203 - val_loss: 0.3385\n",
      "Epoch 11/15\n",
      "22171/22171 [==============================] - 72s 3ms/step - loss: 0.2010 - val_loss: 0.2983\n",
      "Epoch 12/15\n",
      "22171/22171 [==============================] - 73s 3ms/step - loss: 0.2029 - val_loss: 0.3028\n",
      "Epoch 13/15\n",
      "22171/22171 [==============================] - 71s 3ms/step - loss: 0.1884 - val_loss: 0.2683\n",
      "Epoch 14/15\n",
      "22171/22171 [==============================] - 72s 3ms/step - loss: 0.1688 - val_loss: 0.2810\n",
      "Epoch 15/15\n",
      "22171/22171 [==============================] - 72s 3ms/step - loss: 0.1704 - val_loss: 0.2867\n"
     ]
    }
   ],
   "source": [
    "class_log1 = autoencoder1.fit(x_train, y_train,\n",
    "                epochs=15,\n",
    "                batch_size=64,\n",
    "                validation_data=(x_test, y_test),callbacks=[es])"
   ]
  },
  {
   "cell_type": "code",
   "execution_count": 149,
   "metadata": {},
   "outputs": [
    {
     "data": {
      "image/png": "[encoded data removed]",
      "text/plain": [
       "<Figure size 432x288 with 1 Axes>"
      ]
     },
     "metadata": {
      "needs_background": "light"
     },
     "output_type": "display_data"
    }
   ],
   "source": [
    "#_, train_acc = autoencoder.evaluate(x_train, y_train, verbose=1)\n",
    "#_, test_acc = autoencoder.evaluate(x_test, y_test, verbose=1)\n",
    "#print('Train: %.3f, Test: %.3f' % (train_acc, test_acc))\n",
    "# plot training history\n",
    "pyplot.plot(class_log1.history['loss'], label='train')\n",
    "pyplot.plot(class_log1.history['val_loss'], label='test')\n",
    "pyplot.legend()\n",
    "pyplot.show()"
   ]
  },
  {
   "cell_type": "code",
   "execution_count": 151,
   "metadata": {},
   "outputs": [
    {
     "data": {
      "image/png": "[encoded data removed]",
      "text/plain": [
       "<Figure size 432x288 with 2 Axes>"
      ]
     },
     "metadata": {
      "needs_background": "light"
     },
     "output_type": "display_data"
    }
   ],
   "source": [
    "%matplotlib inline\n",
    "nume=5\n",
    "img = x_test[nume]\n",
    "target=autoencoder1.predict(x_test[nume:nume+1])[0,:,:,0]\n",
    "plt.subplot(121)\n",
    "plt.imshow(img[:,:,1],cmap=\"gray\"); plt.axis(\"off\")\n",
    "plt.title(\"Imagen original\")\n",
    "plt.subplot(122)\n",
    "plt.imshow(target); plt.axis(\"off\")\n",
    "plt.title('Mapa de oclusion')\n",
    "plt.show()\n"
   ]
  }
 ],
 "metadata": {
  "kernelspec": {
   "display_name": "Python 3",
   "language": "python",
   "name": "python3"
  },
  "language_info": {
   "codemirror_mode": {
    "name": "ipython",
    "version": 3
   },
   "file_extension": ".py",
   "mimetype": "text/x-python",
   "name": "python",
   "nbconvert_exporter": "python",
   "pygments_lexer": "ipython3",
   "version": "3.7.3"
  }
 },
 "nbformat": 4,
 "nbformat_minor": 2
}
