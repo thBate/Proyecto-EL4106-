{
 "cells": [
  {
   "cell_type": "markdown",
   "metadata": {},
   "source": [
    "# Proyecto: Exploración de datos"
   ]
  },
  {
   "cell_type": "code",
   "execution_count": 1,
   "metadata": {},
   "outputs": [],
   "source": [
    "#conda install keras"
   ]
  },
  {
   "cell_type": "code",
   "execution_count": 33,
   "metadata": {},
   "outputs": [
    {
     "name": "stdout",
     "output_type": "stream",
     "text": [
      "C:\\Users\\thoma\\Documents\\GitHub\\Proyecto-EL4106-\n"
     ]
    }
   ],
   "source": [
    "import numpy as np\n",
    "import pandas as pd\n",
    "import os, sys\n",
    "import matplotlib.pyplot as plt\n",
    "import matplotlib.image as mpimage\n",
    "from scipy.misc import imresize, imsave\n",
    "import json\n",
    "from copy import deepcopy\n",
    "from sklearn.model_selection import train_test_split\n",
    "from time import time #importamos la función time para capturar tiempos\n",
    "\n",
    "print(os.path.abspath('.'))\n",
    "from matplotlib import pyplot\n",
    "import keras\n",
    "from keras.datasets import mnist\n",
    "from keras.models import *\n",
    "from keras.layers import Dense, Dropout, Flatten\n",
    "from keras.layers import Conv2D, MaxPooling2D, ZeroPadding2D\n",
    "from keras.callbacks import EarlyStopping"
   ]
  },
  {
   "cell_type": "code",
   "execution_count": 3,
   "metadata": {},
   "outputs": [
    {
     "name": "stdout",
     "output_type": "stream",
     "text": [
      ".\\HiTS2013_100k_samples(4_channels)_images_labels.pkl\n"
     ]
    }
   ],
   "source": [
    "print(os.path.join('.','HiTS2013_100k_samples(4_channels)_images_labels.pkl'))"
   ]
  },
  {
   "cell_type": "code",
   "execution_count": 4,
   "metadata": {},
   "outputs": [
    {
     "data": {
      "text/plain": [
       "dict_keys(['images', 'labels'])"
      ]
     },
     "execution_count": 4,
     "metadata": {},
     "output_type": "execute_result"
    }
   ],
   "source": [
    "test_set_filename = 'HiTS2013_100k_samples(4_channels)_images_labels.pkl'\n",
    "\n",
    "data = np.load(test_set_filename)\n",
    "\n",
    "data.keys()"
   ]
  },
  {
   "cell_type": "code",
   "execution_count": 5,
   "metadata": {},
   "outputs": [
    {
     "name": "stdout",
     "output_type": "stream",
     "text": [
      "Imagenes por fenomeno:\n",
      "100000\n",
      "Etiqueta del primer dato:\n",
      "0\n",
      "Dimension de cada imagen:\n"
     ]
    },
    {
     "data": {
      "text/plain": [
       "(21, 21)"
      ]
     },
     "execution_count": 5,
     "metadata": {},
     "output_type": "execute_result"
    }
   ],
   "source": [
    "#print(type(data[\"images\"][1]))\n",
    "print('Imagenes por fenomeno:')\n",
    "print(len(data[\"images\"]))\n",
    "print('Etiqueta del primer dato:')\n",
    "print(data[\"labels\"][0])\n",
    "print('Dimension de cada imagen:')\n",
    "data[\"images\"][1][:,:,0].shape"
   ]
  },
  {
   "cell_type": "markdown",
   "metadata": {},
   "source": [
    "Cada imagen es de 21x21, con cuatro dimensiones que serían cada canal. Se podría hacer el experimento de ver que canal concventra mayor información y si en verdad hay uno no más que apaña para entrenar."
   ]
  },
  {
   "cell_type": "code",
   "execution_count": 6,
   "metadata": {},
   "outputs": [
    {
     "name": "stdout",
     "output_type": "stream",
     "text": [
      "La clase es 1, es decir, si es supernova.\n"
     ]
    },
    {
     "data": {
      "image/png": "[encoded data removed]",
      "text/plain": [
       "<Figure size 432x288 with 4 Axes>"
      ]
     },
     "metadata": {
      "needs_background": "light"
     },
     "output_type": "display_data"
    }
   ],
   "source": [
    "#acá se muestran las imagenes del priemer dato\n",
    "X0 = data[\"images\"][2][:,:,0]\n",
    "X1 = data[\"images\"][2][:,:,1]\n",
    "X2 = data[\"images\"][2][:,:,2]\n",
    "X3 = data[\"images\"][2][:,:,3]# sample 2D array\n",
    "\n",
    "\n",
    "fig, axs = plt.subplots(2, 2)\n",
    "axs[0, 0].imshow(X0, cmap=\"gray\")\n",
    "axs[0, 0].set_title('Template')\n",
    "axs[0, 1].imshow(X1, cmap=\"gray\")\n",
    "axs[0, 1].set_title('Science')\n",
    "axs[1, 0].imshow(X2, cmap=\"gray\")\n",
    "axs[1, 0].set_title('Difference')\n",
    "axs[1, 1].imshow(X2, cmap=\"gray\")\n",
    "axs[1, 1].set_title('SNR Difference')\n",
    "\n",
    "# Hide x labels and tick labels for top plots and y ticks for right plots.\n",
    "for ax in axs.flat:\n",
    "    ax.label_outer()\n",
    "\n",
    "print('La clase es '+str(data[\"labels\"][3])+', es decir, si es supernova.')"
   ]
  },
  {
   "cell_type": "markdown",
   "metadata": {},
   "source": [
    "Para entrenar la red se deben procesar los datos para ser ingresados al clasificador. Si utilizamos una red convolucional, sirve que cada dato sea representado mediante cada una de sus fotos propiamente tal, a modo de feature map. Si se usa MLP, se cancatenaran vectores que contengan 528 elemento (cada imagen hecha vector) para generar una capa de 528x4 entradas.\n",
    "\n",
    "Lo más coneveniente en este caso será usar una red convolucional, la forma del problema sugiere que con una red de este tipo habrá un mayor desempeño."
   ]
  },
  {
   "cell_type": "code",
   "execution_count": 7,
   "metadata": {},
   "outputs": [],
   "source": [
    "#prcesamiento de datos\n",
    "num=99000"
   ]
  },
  {
   "cell_type": "code",
   "execution_count": 8,
   "metadata": {},
   "outputs": [],
   "source": [
    "#Es importante hacerle el zero padding para tener mejor desempeño en una posible red convolucional\n",
    "#Así también los mapas de oclusión habrán sido calculados con la misma cantidad de 'tapadas' para cada pixel\n",
    "#Acá se genera el set con el que se entrenará el clasificador (sin oclusión todavía), a partir de una porciín del dict\n",
    "#pad de tamano constante 2, se deberia cambiar si se aumenta el tamano del parche\n",
    "def zero_pad(dataset,zero=True):\n",
    "    datos_proc=[]\n",
    "    if zero==True:\n",
    "        for i in range(dataset.shape[0]):\n",
    "            dato=dataset[i]#dato son las 4 fotos en 21x21x4\n",
    "            dato1=np.pad(dato, pad_width=2, mode='constant', constant_values=0)\n",
    "            f_imag=dato1[:,:,2:6]#Se retiran dos capas que se hicieron de ceros en las tapas del cubo\n",
    "            datos_proc.append(f_imag)\n",
    "        return datos_proc\n",
    "    else:\n",
    "        for i in range(dataset.shape[0]):\n",
    "            dato2=dataset[i]#dato son las 4 fotos en 21x21x4\n",
    "            datos_proc.append(dato2)\n",
    "        return datos_proc\n",
    "def labels(dataset):\n",
    "    labels=[]\n",
    "    for i in range(dataset.shape[0]):\n",
    "        label=dataset[i]\n",
    "        labels.append(label)\n",
    "    return labels\n",
    "    \n",
    "datos_proce=zero_pad(data[\"images\"][0:num])#este contiene las fotos con el zero pad\n",
    "#ejemplo\n",
    "datos_sPad=zero_pad(data[\"images\"][0:num],False)#este contiene las fotos sin el zero pad\n",
    "labels_proce=labels(data[\"labels\"][0:num])\n"
   ]
  },
  {
   "cell_type": "code",
   "execution_count": 9,
   "metadata": {},
   "outputs": [
    {
     "data": {
      "text/plain": [
       "(21, 21, 4)"
      ]
     },
     "execution_count": 9,
     "metadata": {},
     "output_type": "execute_result"
    },
    {
     "data": {
      "image/png": "[encoded data removed]",
      "text/plain": [
       "<Figure size 432x288 with 1 Axes>"
      ]
     },
     "metadata": {
      "needs_background": "light"
     },
     "output_type": "display_data"
    }
   ],
   "source": [
    "plt.imshow(datos_sPad[2][:,:,1], cmap=\"gray\")\n",
    "datos_sPad[0].shape"
   ]
  },
  {
   "cell_type": "code",
   "execution_count": 10,
   "metadata": {},
   "outputs": [
    {
     "data": {
      "text/plain": [
       "(25, 25, 4)"
      ]
     },
     "execution_count": 10,
     "metadata": {},
     "output_type": "execute_result"
    },
    {
     "data": {
      "image/png": "[encoded data removed]",
      "text/plain": [
       "<Figure size 432x288 with 1 Axes>"
      ]
     },
     "metadata": {
      "needs_background": "light"
     },
     "output_type": "display_data"
    }
   ],
   "source": [
    "plt.imshow(datos_proce[2][:,:,1], cmap=\"gray\")\n",
    "datos_proce[2].shape"
   ]
  },
  {
   "cell_type": "code",
   "execution_count": 11,
   "metadata": {},
   "outputs": [],
   "source": [
    "#Esta clase tiene por fin generar lás imágenes con sectores tapados\n",
    "class OcclusionGenerator(object):\n",
    "    #img es el arreglo numpy que contiene las\n",
    "    #boxsize es el tamaño del parche\n",
    "    #step es el paso que avanza el parche\n",
    "    def __init__(self, img, boxsize=3, step=1, prepocess=True):\n",
    "        ''' Initializations '''\n",
    "        self.img = img\n",
    "        self.boxsize = boxsize\n",
    "        self.step = step \n",
    "        #creo que son las posiciones del parche\n",
    "        self.i = 0\n",
    "        self.j = 0\n",
    "    \n",
    "\n",
    "    def flow(self):\n",
    "        ''' Return a single occluded image and its location '''\n",
    "        if self.i + self.boxsize > self.img.shape[0]:\n",
    "            return None, None, None\n",
    "        \n",
    "        retImg = np.copy(self.img)\n",
    "        retImg[self.i:self.i+self.boxsize, self.j:self.j+self.boxsize] = 0.0 \n",
    "\n",
    "        old_i = deepcopy(self.i) \n",
    "        old_j = deepcopy(self.j)\n",
    "        \n",
    "        # update indices\n",
    "        self.j = self.j + self.step\n",
    "        if self.j+self.boxsize>self.img.shape[1]: #reached end\n",
    "            self.j = 0 # reset j\n",
    "            self.i = self.i + self.step # go to next row\n",
    "        \n",
    "        \n",
    "        return retImg, old_i, old_j\n",
    "    def print(self):\n",
    "        X0 = self.img[:,:,0]\n",
    "        X1 = self.img[:,:,1]\n",
    "        X2 = self.img[:,:,2]\n",
    "        X3 = self.img[:,:,3]# sample 2D array\n",
    "\n",
    "\n",
    "        fig, axs = plt.subplots(2, 2)\n",
    "        axs[0, 0].imshow(X0, cmap=\"gray\")\n",
    "        axs[0, 0].set_title('Template')\n",
    "        axs[0, 1].imshow(X1, cmap=\"gray\")\n",
    "        axs[0, 1].set_title('Science')\n",
    "        axs[1, 0].imshow(X2, cmap=\"gray\")\n",
    "        axs[1, 0].set_title('Difference')\n",
    "        axs[1, 1].imshow(X2, cmap=\"gray\")\n",
    "        axs[1, 1].set_title('SNR Difference')\n",
    "\n",
    "# Hide x labels and tick labels for top plots and y ticks for right plots.\n",
    "        for ax in axs.flat:\n",
    "            ax.label_outer()\n",
    "    \n",
    "    def getimg(self):\n",
    "        return self.img\n",
    "    \n",
    "    def gen_minibatch(self, batchsize=10):\n",
    "        ''' Returns a minibatch of images of size <=batchsize '''\n",
    "        \n",
    "        # list of occluded images\n",
    "        occ_imlist = []\n",
    "        locations = []\n",
    "        for i in range(batchsize):\n",
    "            occimg, i, j = self.flow()\n",
    "            if occimg is not None:\n",
    "                occ_imlist.append(occimg)\n",
    "                locations.append([i,j])\n",
    "\n",
    "        if len(occ_imlist)==0: # no data\n",
    "            return None,None\n",
    "        else:\n",
    "            # convert list to numpy array and pre-process input (0 mean centering)\n",
    "            x=reformat(occ_imlist)\n",
    "            return x, locations\n"
   ]
  },
  {
   "cell_type": "code",
   "execution_count": 12,
   "metadata": {},
   "outputs": [
    {
     "name": "stdout",
     "output_type": "stream",
     "text": [
      "<class '__main__.OcclusionGenerator'>\n",
      "<class 'numpy.ndarray'>\n",
      "(21, 21, 4)\n",
      "(21, 21, 4)\n"
     ]
    },
    {
     "data": {
      "image/png": "[encoded data removed]",
      "text/plain": [
       "<Figure size 432x288 with 4 Axes>"
      ]
     },
     "metadata": {
      "needs_background": "light"
     },
     "output_type": "display_data"
    }
   ],
   "source": [
    "# testing out the occlusion generator class\n",
    "img = datos_sPad[1]#así esta en 21x21x4\n",
    "occ = OcclusionGenerator(img)\n",
    "parche=occ.flow()\n",
    "im=parche[0]\n",
    "print(type(occ))\n",
    "print(type(parche[0]))\n",
    "print(im.shape)\n",
    "occList = []#Esta lista va guardando las imagenes a medida que el parche va avanzando\n",
    "#Se tiene preconfigurado en la clase un paso de 1 y un parche de 2x2\n",
    "for i in range(528):\n",
    "    occList.append(occ.flow()[0])\n",
    "#ejemplo de imagen ocluida\n",
    "example=OcclusionGenerator(occList[200])\n",
    "print(occList[200].shape)\n",
    "example.print()"
   ]
  },
  {
   "cell_type": "code",
   "execution_count": 13,
   "metadata": {},
   "outputs": [
    {
     "data": {
      "text/plain": [
       "(21, 21, 4)"
      ]
     },
     "execution_count": 13,
     "metadata": {},
     "output_type": "execute_result"
    },
    {
     "data": {
      "image/png": "[encoded data removed]",
      "text/plain": [
       "<Figure size 432x288 with 4 Axes>"
      ]
     },
     "metadata": {
      "needs_background": "light"
     },
     "output_type": "display_data"
    }
   ],
   "source": [
    "#Aca se crea una función para recibir un dato del diccionario data y devolver el set de imagenes con todas las oclusiones\n",
    "#si se cambia el paso y el tamaño del filtro hay que alterar esta función para que calce (creo)\n",
    "def OcGen(img):\n",
    "    occ = OcclusionGenerator(img)\n",
    "    occList = []#Esta lista va guardando las imagenes a medida que el parche va avanzando\n",
    "#Se tiene preconfigurado en la clase un paso de 1 y un parche de 3x3\n",
    "    for i in range(528):#aumentar este parametro se presta para data augmentation\n",
    "        occList.append(occ.flow()[0])\n",
    "    return occList\n",
    "#Ejemplo de la imagen 350 del set de imagenes ocluidas del primer dato\n",
    "example=OcclusionGenerator(OcGen(datos_sPad[1])[50])\n",
    "example.print()\n",
    "datos_sPad[1].shape"
   ]
  },
  {
   "cell_type": "markdown",
   "metadata": {},
   "source": [
    "# Red a entrenar\n",
    "\n"
   ]
  },
  {
   "cell_type": "code",
   "execution_count": 36,
   "metadata": {},
   "outputs": [
    {
     "name": "stdout",
     "output_type": "stream",
     "text": [
      "Train on 84150 samples, validate on 14850 samples\n",
      "Epoch 1/30\n",
      "84150/84150 [==============================] - 121s 1ms/step - loss: 0.0880 - acc: 0.9726 - val_loss: 0.0870 - val_acc: 0.9716\n",
      "Epoch 2/30\n",
      "84150/84150 [==============================] - 122s 1ms/step - loss: 0.0609 - acc: 0.9823 - val_loss: 0.0675 - val_acc: 0.9797\n",
      "Epoch 3/30\n",
      "84150/84150 [==============================] - 122s 1ms/step - loss: 0.0523 - acc: 0.9843 - val_loss: 0.0455 - val_acc: 0.9869\n",
      "Epoch 4/30\n",
      "84150/84150 [==============================] - 122s 1ms/step - loss: 0.0461 - acc: 0.9858 - val_loss: 0.0420 - val_acc: 0.9883\n",
      "Epoch 5/30\n",
      "84150/84150 [==============================] - 124s 1ms/step - loss: 0.0421 - acc: 0.9871 - val_loss: 0.0510 - val_acc: 0.9842\n",
      "Epoch 6/30\n",
      "84150/84150 [==============================] - 131s 2ms/step - loss: 0.0393 - acc: 0.9881 - val_loss: 0.0485 - val_acc: 0.9840\n",
      "Epoch 7/30\n",
      "84150/84150 [==============================] - 132s 2ms/step - loss: 0.0368 - acc: 0.9889 - val_loss: 0.0474 - val_acc: 0.9855\n",
      "Epoch 00007: early stopping\n",
      "El tiempo de ejecucion fue: 887.9939279556274\n"
     ]
    }
   ],
   "source": [
    "#Antes de entrenar hay que generar los conjuntos de entrenamiento y test. El de entrenamiento tendrá un 0.9 de los datos\n",
    "x_train, x_test, y_train, y_test = train_test_split(datos_proce, labels_proce, test_size=0.15, random_state=42)\n",
    "x_train=np.asarray(x_train)\n",
    "y_train=np.asarray(y_train)\n",
    "x_test=np.asarray(x_test)\n",
    "y_test=np.asarray(y_test)\n",
    "\n",
    "y_train = keras.utils.to_categorical(y_train, 2)\n",
    "y_test = keras.utils.to_categorical(y_test, 2)\n",
    "\n",
    "#Construccion clasificador\n",
    "classifier = Sequential()\n",
    "classifier.add(Conv2D(32, (4, 4), input_shape = (25, 25, 4), padding=\"same\",strides=(1, 1), activation = 'relu'))\n",
    "classifier.add(Conv2D(32, (3, 3), padding=\"same\", activation = 'relu'))\n",
    "classifier.add(MaxPooling2D(pool_size = (2, 2), padding='same'))\n",
    "classifier.add(Conv2D(64, (3, 3), padding=\"same\", activation = 'relu'))\n",
    "classifier.add(Conv2D(64, (3, 3), padding=\"same\", activation = 'relu'))\n",
    "classifier.add(Conv2D(64, (3, 3), padding=\"same\", activation = 'relu'))\n",
    "classifier.add(MaxPooling2D(pool_size = (2, 2)))\n",
    "\n",
    "classifier.add(Flatten())\n",
    "classifier.add(Dense(units = 64, activation = 'relu'))\n",
    "classifier.add(Dense(units = 64, activation = 'relu'))\n",
    "\n",
    "classifier.add(Dense(units = 2, activation = 'softmax'))\n",
    "\n",
    "es = EarlyStopping(monitor='val_loss', mode='min', verbose=1, patience=5)\n",
    "\n",
    "classifier.compile(optimizer = 'adam', loss = 'categorical_crossentropy', metrics = ['accuracy'])\n",
    "\n",
    "\n",
    "#Entrenamiento\n",
    "num_epoch = 30\n",
    "tiempo_inicial = time() \n",
    "class_log = classifier.fit(x_train, y_train,epochs=num_epoch,validation_data=(x_test, y_test),callbacks=[es])\n",
    "tiempo_final = time() \n",
    "tiempo_ejecucion = tiempo_final - tiempo_inicial\n",
    " \n",
    "print('El tiempo de ejecucion fue:',tiempo_ejecucion)\n"
   ]
  },
  {
   "cell_type": "code",
   "execution_count": 37,
   "metadata": {},
   "outputs": [
    {
     "name": "stdout",
     "output_type": "stream",
     "text": [
      "84150/84150 [==============================] - 42s 495us/step\n",
      "14850/14850 [==============================] - 7s 499us/step\n",
      "Train: 0.987, Test: 0.986\n"
     ]
    },
    {
     "data": {
      "image/png": "[encoded data removed]",
      "text/plain": [
       "<Figure size 432x288 with 1 Axes>"
      ]
     },
     "metadata": {
      "needs_background": "light"
     },
     "output_type": "display_data"
    }
   ],
   "source": [
    "_, train_acc = classifier.evaluate(x_train, y_train, verbose=1)\n",
    "_, test_acc = classifier.evaluate(x_test, y_test, verbose=1)\n",
    "print('Train: %.3f, Test: %.3f' % (train_acc, test_acc))\n",
    "# plot training history\n",
    "pyplot.plot(class_log.history['loss'], label='train')\n",
    "pyplot.plot(class_log.history['val_loss'], label='test')\n",
    "pyplot.legend()\n",
    "pyplot.show()"
   ]
  },
  {
   "cell_type": "code",
   "execution_count": 38,
   "metadata": {},
   "outputs": [
    {
     "name": "stdout",
     "output_type": "stream",
     "text": [
      "_________________________________________________________________\n",
      "Layer (type)                 Output Shape              Param #   \n",
      "=================================================================\n",
      "conv2d_31 (Conv2D)           (None, 25, 25, 32)        2080      \n",
      "_________________________________________________________________\n",
      "conv2d_32 (Conv2D)           (None, 25, 25, 32)        9248      \n",
      "_________________________________________________________________\n",
      "max_pooling2d_13 (MaxPooling (None, 13, 13, 32)        0         \n",
      "_________________________________________________________________\n",
      "conv2d_33 (Conv2D)           (None, 13, 13, 64)        18496     \n",
      "_________________________________________________________________\n",
      "conv2d_34 (Conv2D)           (None, 13, 13, 64)        36928     \n",
      "_________________________________________________________________\n",
      "conv2d_35 (Conv2D)           (None, 13, 13, 64)        36928     \n",
      "_________________________________________________________________\n",
      "max_pooling2d_14 (MaxPooling (None, 6, 6, 64)          0         \n",
      "_________________________________________________________________\n",
      "flatten_7 (Flatten)          (None, 2304)              0         \n",
      "_________________________________________________________________\n",
      "dense_19 (Dense)             (None, 64)                147520    \n",
      "_________________________________________________________________\n",
      "dense_20 (Dense)             (None, 64)                4160      \n",
      "_________________________________________________________________\n",
      "dense_21 (Dense)             (None, 2)                 130       \n",
      "=================================================================\n",
      "Total params: 255,490\n",
      "Trainable params: 255,490\n",
      "Non-trainable params: 0\n",
      "_________________________________________________________________\n",
      "None\n"
     ]
    }
   ],
   "source": [
    "print(classifier.summary())\n"
   ]
  },
  {
   "cell_type": "code",
   "execution_count": 39,
   "metadata": {},
   "outputs": [
    {
     "name": "stdout",
     "output_type": "stream",
     "text": [
      "El tiempo de ejecucion fue: 3.379547595977783\n",
      "[[0.9838811  0.01611891]]\n",
      "[[1. 0.]\n",
      " [0. 1.]\n",
      " [0. 1.]\n",
      " [1. 0.]\n",
      " [1. 0.]\n",
      " [0. 1.]\n",
      " [1. 0.]\n",
      " [1. 0.]\n",
      " [1. 0.]\n",
      " [0. 1.]]\n"
     ]
    }
   ],
   "source": [
    "#un par de predicciones\n",
    "p=157\n",
    "tiempo_inicial = time() \n",
    "preds = classifier.predict(x_test[p:p+1])\n",
    "tiempo_final = time() \n",
    "tiempo_ejecucion = tiempo_final - tiempo_inicial\n",
    " \n",
    "print('El tiempo de ejecucion fue:',tiempo_ejecucion)\n",
    "p=157\n",
    "print(preds)\n",
    "print(y_test[p:p+10])"
   ]
  },
  {
   "cell_type": "code",
   "execution_count": 40,
   "metadata": {},
   "outputs": [],
   "source": [
    "# this function takes a list of heatmaps and merges them into one single heatmap\n",
    "def post_process(heatmap):\n",
    "\n",
    "    # postprocessing\n",
    "    total = heatmap[0]\n",
    "    for val in heatmap[1:]:\n",
    "        total = total + val\n",
    "    \n",
    "    return total"
   ]
  },
  {
   "cell_type": "code",
   "execution_count": 41,
   "metadata": {},
   "outputs": [],
   "source": [
    "def reformat(input):\n",
    "\n",
    "    x = np.zeros((len(input), 25, 25, 4))#nuevo arreglo\n",
    "    for i in range(len(input)):\n",
    "        x[i, :,:,0] = input[i][:,:,0]\n",
    "        x[i, :,:,1] = input[i][:,:,1]\n",
    "        x[i, :,:,2] = input[i][:,:,2]\n",
    "        x[i, :,:,3] = input[i][:,:,3]\n",
    "\n",
    "    return x\n",
    "\n",
    "datos_proce1=reformat(datos_proce)#estos sirven para ser clasificados"
   ]
  },
  {
   "cell_type": "code",
   "execution_count": 43,
   "metadata": {},
   "outputs": [],
   "source": [
    "#### This is the meat of the program. It generates the heatmap for the given image location ####\n",
    "#### Las imagenes seran sacadas del conjunto de test, tenerlo corrido antes de ejecutar\n",
    "def gen_heatmap(num, boxsize=3, step=1, verbose=True, savetodisk=False):\n",
    "\n",
    "    # load up image\n",
    "    img=datos_proce1[num]\n",
    "   # if verbose:\n",
    "   #     plt.imshow(img); plt.axis(\"off\")\n",
    "  #      plt.show()\n",
    "\n",
    "    # classify image (w/o occlusions)\n",
    "    model = classifier\n",
    "    #preds = model.predict(datos_proce1[num:num+1])\n",
    "    correct_class_index = np.argmax(labels_proce[num])#####\n",
    "\n",
    "    correct_class_label = labels_proce[num]\n",
    "    if verbose:\n",
    "        print(correct_class_label)\n",
    "\n",
    "    # generate occluded images and location of mask\n",
    "    occ = OcclusionGenerator(img, boxsize, step, True)\n",
    "\n",
    "    # scores of occluded image\n",
    "    heatmap = []\n",
    "    index = 0\n",
    "    while True:\n",
    "\n",
    "        # get minibatch of data\n",
    "        x, locations = occ.gen_minibatch(batchsize=10)\n",
    "\n",
    "        if x is not None:\n",
    "\n",
    "            #predict \n",
    "            op = model.predict(x)\n",
    "\n",
    "            #unpack prediction values \n",
    "            for i in range(x.shape[0]):\n",
    "                score = op[i][correct_class_index]\n",
    "                r,c = locations[i] \n",
    "                scoremap = np.zeros((25,25))\n",
    "                scoremap[r : r+occ.boxsize, c : c+occ.boxsize] = score\n",
    "                heatmap.append(scoremap)\n",
    "\n",
    "           # if verbose:\n",
    "            #    print('..minibatch completed')\n",
    "        else:\n",
    "            break\n",
    "\n",
    "    return heatmap, correct_class_index, correct_class_label"
   ]
  },
  {
   "cell_type": "code",
   "execution_count": 52,
   "metadata": {},
   "outputs": [
    {
     "name": "stdout",
     "output_type": "stream",
     "text": [
      "1\n",
      "Clase real: 1\n",
      "El tiempo de ejecucion fue: 0.777137041091919\n"
     ]
    },
    {
     "data": {
      "image/png": "[encoded data removed]",
      "text/plain": [
       "<Figure size 432x288 with 2 Axes>"
      ]
     },
     "metadata": {
      "needs_background": "light"
     },
     "output_type": "display_data"
    }
   ],
   "source": [
    "# run the program on image \n",
    "nume=18888\n",
    "\n",
    "tiempo_inicial = time() \n",
    "\n",
    "heatmapList, index, label = gen_heatmap(nume)\n",
    "print('Clase real: '+str(labels_proce[nume]))\n",
    "processed   = post_process(heatmapList)\n",
    "tiempo_final = time() \n",
    "tiempo_ejecucion = tiempo_final - tiempo_inicial\n",
    "print('El tiempo de ejecucion fue:',tiempo_ejecucion)\n",
    "\n",
    "\n",
    "%matplotlib inline\n",
    "img = datos_proce[nume]\n",
    "plt.subplot(121)\n",
    "plt.imshow(img[:,:,3],cmap=\"gray\"); plt.axis(\"off\")\n",
    "plt.title(\"Pred: \"+str(classifier.predict(datos_proce1[nume:nume+1])))\n",
    "plt.subplot(122)\n",
    "plt.imshow(processed); plt.axis(\"off\")\n",
    "plt.title('Mapa de oclusion')\n",
    "plt.show()"
   ]
  },
  {
   "cell_type": "code",
   "execution_count": 49,
   "metadata": {},
   "outputs": [
    {
     "name": "stdout",
     "output_type": "stream",
     "text": [
      "(21, 21)\n"
     ]
    },
    {
     "data": {
      "text/plain": [
       "(-0.5, 20.5, 20.5, -0.5)"
      ]
     },
     "execution_count": 49,
     "metadata": {},
     "output_type": "execute_result"
    },
    {
     "data": {
      "image/png": "[encoded data removed]",
      "text/plain": [
       "<Figure size 432x288 with 1 Axes>"
      ]
     },
     "metadata": {
      "needs_background": "light"
     },
     "output_type": "display_data"
    }
   ],
   "source": [
    "print(processed[2:23,2:23].shape)\n",
    "plt.imshow(processed[2:23,2:23]); plt.axis(\"off\")\n"
   ]
  },
  {
   "cell_type": "code",
   "execution_count": 51,
   "metadata": {},
   "outputs": [
    {
     "name": "stdout",
     "output_type": "stream",
     "text": [
      "Confusion Matrix\n",
      "[[7420   52]\n",
      " [ 163 7215]]\n",
      "Classification Report\n",
      "              precision    recall  f1-score   support\n",
      "\n",
      "No-supernova       0.98      0.99      0.99      7472\n",
      "   Supernova       0.99      0.98      0.99      7378\n",
      "\n",
      "   micro avg       0.99      0.99      0.99     14850\n",
      "   macro avg       0.99      0.99      0.99     14850\n",
      "weighted avg       0.99      0.99      0.99     14850\n",
      "\n"
     ]
    }
   ],
   "source": [
    "from sklearn.metrics import classification_report, confusion_matrix\n",
    "#Confution Matrix and Classification Report\n",
    "Y_pred = classifier.predict(x_test)\n",
    "y_pred = np.argmax(Y_pred, axis=1)\n",
    "print('Confusion Matrix')\n",
    "print(confusion_matrix(y_test[:,1], y_pred))\n",
    "print('Classification Report')\n",
    "target_names = ['No-supernova', 'Supernova']\n",
    "print(classification_report(y_test[:,1], y_pred, target_names=target_names))"
   ]
  },
  {
   "cell_type": "code",
   "execution_count": 56,
   "metadata": {},
   "outputs": [
    {
     "name": "stdout",
     "output_type": "stream",
     "text": [
      "El tiempo de ejecucion fue: 4771.162581920624\n"
     ]
    }
   ],
   "source": [
    "#Creacion de base de datos de imágenes ocluídas, los que no son supernova\n",
    "labels = keras.utils.to_categorical(labels_proce, 2)\n",
    "num_im=98000#cantidad de imagenes\n",
    "num_oclu1=20000#cantidad de mapas a generar\n",
    "bdd_oclu1=[]#estos tienen los que no son supernova\n",
    "bdd_orig1=[]\n",
    "bdd_labels1=[]\n",
    "tiempo_inicial = time() \n",
    "while(num_oclu>0 and num_im>0):\n",
    "    if labels[num_im,1]==0:\n",
    "        heatmapList, index, label = gen_heatmap(num_im,verbose=False)\n",
    "        processed  = post_process(heatmapList)\n",
    "        bdd_oclu1.append(processed[2:23,2:23])\n",
    "        bdd_orig1.append(datos_proce[num_im])\n",
    "        bdd_labels1.append(labels[num_im,:])\n",
    "        num_oclu=num_oclu-1  \n",
    "    num_im=num_im-1\n",
    "    \n",
    "    \n",
    "tiempo_final = time() \n",
    "tiempo_ejecucion = tiempo_final - tiempo_inicial\n",
    "print('El tiempo de ejecucion fue:',tiempo_ejecucion)\n",
    "\n",
    "    "
   ]
  },
  {
   "cell_type": "code",
   "execution_count": 57,
   "metadata": {},
   "outputs": [
    {
     "name": "stdout",
     "output_type": "stream",
     "text": [
      "El tiempo de ejecucion fue: 5717.904276847839\n"
     ]
    }
   ],
   "source": [
    "tiempo_inicial = time() \n",
    "\n",
    "num_im=98000#cantidad de imagenes\n",
    "num_oclu=20000#cantidad de mapas a generar\n",
    "bdd_oclu=[]#estos son las sueprnovas\n",
    "bdd_orig=[]\n",
    "bdd_labels=[]\n",
    "while(num_oclu>0 and num_im>0):\n",
    "    if labels[num_im,1]==1:\n",
    "        heatmapList, index, label = gen_heatmap(num_im,verbose=False)\n",
    "        processed  = post_process(heatmapList)\n",
    "        bdd_oclu.append(processed[2:23,2:23])\n",
    "        bdd_orig.append(datos_proce[num_im])\n",
    "        bdd_labels.append(labels[num_im,:])\n",
    "        num_oclu=num_oclu-1  \n",
    "    num_im=num_im-1\n",
    "    \n",
    "tiempo_final = time() \n",
    "tiempo_ejecucion = tiempo_final - tiempo_inicial\n",
    "print('El tiempo de ejecucion fue:',tiempo_ejecucion)"
   ]
  },
  {
   "cell_type": "code",
   "execution_count": null,
   "metadata": {},
   "outputs": [],
   "source": [
    "#Creacion de base de datos de imágenes ocluídas\n",
    "#labels = keras.utils.to_categorical(labels_proce, 2)\n",
    "#num_im=98000#cantidad de imagenes\n",
    "#num_oclu=20000#cantidad de mapas a generar\n",
    "#bdd_oclu=[]\n",
    "#bdd_orig=[]\n",
    "#label_orig=[]\n",
    "#while(num_oclu>0 and num_im>0):\n",
    "#    if labels[num_im,1]==1:\n",
    "#        heatmapList, index, label = gen_heatmap(num_im,verbose=False)\n",
    "#        processed  = post_process(heatmapList)\n",
    "#        bdd_oclu.append(processed[2:23,2:23])\n",
    "#        bdd_orig.append(datos_proce[num_im])\n",
    "#        #label_orig.append(labels[num_im,:])\n",
    "#        num_oclu=num_oclu-1  \n",
    "#    if num_im%5000:\n",
    "#        print(str(num_im)+' datos han sido procesados.')\n",
    "#    num_im=num_im-1\n",
    "    "
   ]
  },
  {
   "cell_type": "code",
   "execution_count": null,
   "metadata": {},
   "outputs": [],
   "source": [
    "#x_train1, x_test1, y_train1, y_test1 = train_test_split(bdd_orig, bdd_oclu, test_size=0.15, random_state=42)\n",
    "#len(bdd_oclu)\n",
    "#plt.imshow(x_train1[4]); plt.axis(\"off\")\n"
   ]
  },
  {
   "cell_type": "code",
   "execution_count": 73,
   "metadata": {},
   "outputs": [
    {
     "data": {
      "image/png": "[encoded data removed]",
      "text/plain": [
       "<Figure size 432x288 with 2 Axes>"
      ]
     },
     "metadata": {
      "needs_background": "light"
     },
     "output_type": "display_data"
    }
   ],
   "source": [
    "#Aca se plotean ejemplos de la nueva base de datos.\n",
    "%matplotlib inline\n",
    "nume=1075 #800 #700\n",
    "img = bdd_orig1[nume]\n",
    "target=bdd_oclu1[nume]\n",
    "imgs=reformat(bdd_orig1[nume:nume+1])\n",
    "plt.subplot(121)\n",
    "plt.imshow(img[:,:,1],cmap=\"gray\"); plt.axis(\"off\")\n",
    "plt.title(\"Pred: \"+str(classifier.predict(imgs)))\n",
    "plt.subplot(122)\n",
    "plt.imshow(target); plt.axis(\"off\")\n",
    "plt.title('Mapa de oclusion')\n",
    "plt.show()"
   ]
  },
  {
   "cell_type": "code",
   "execution_count": 60,
   "metadata": {},
   "outputs": [],
   "source": [
    "#Acá se guardan los datos generados\n",
    "import pickle\n",
    "\n",
    "pickle_out_orig_super = open(\"super_orig.pickle\",\"wb\")\n",
    "pickle_out_oclu_super = open(\"super_oclu.pickle\",\"wb\")\n",
    "pickle_out_label_super = open(\"super_label.pickle\",\"wb\")\n",
    "\n",
    "pickle_out_orig_no = open(\"no_orig.pickle\",\"wb\")\n",
    "pickle_out_oclu_no = open(\"no_oclu.pickle\",\"wb\")\n",
    "pickle_out_label_no = open(\"no_label.pickle\",\"wb\")\n",
    "\n",
    "\n",
    "pickle.dump(bdd_orig, pickle_out_orig_super)\n",
    "pickle.dump(bdd_oclu, pickle_out_oclu_super)\n",
    "pickle.dump(bdd_labels, pickle_out_label_super)\n",
    "\n",
    "pickle.dump(bdd_orig1, pickle_out_orig_no)\n",
    "pickle.dump(bdd_oclu1, pickle_out_oclu_no)\n",
    "pickle.dump(bdd_labels1, pickle_out_label_no)\n",
    "\n",
    "\n",
    "\n",
    "pickle_out_orig_super.close()\n",
    "pickle_out_orig_super.close()\n",
    "pickle_out_orig_super.close()\n",
    "pickle_out_orig_super.close()\n",
    "pickle_out_orig_super.close()\n",
    "pickle_out_orig_super.close()"
   ]
  },
  {
   "cell_type": "code",
   "execution_count": null,
   "metadata": {},
   "outputs": [],
   "source": [
    "\n",
    "#pickle_out = open(\"bdd_orig.pickle\",\"wb\")\n",
    "#pickle.dump(bdd_orig, pickle_out)\n",
    "#pickle_out.close()"
   ]
  },
  {
   "cell_type": "code",
   "execution_count": null,
   "metadata": {},
   "outputs": [],
   "source": [
    "#Se prueba la integridad de los datos\n",
    "#data1 = np.load(\"bdd_orig.pickle\")\n",
    "#data2 = np.load(\"bdd_oclu.pickle\")"
   ]
  },
  {
   "cell_type": "code",
   "execution_count": null,
   "metadata": {},
   "outputs": [],
   "source": [
    "#%matplotlib inline\n",
    "#nume=8000\n",
    "#img = data1[nume]\n",
    "#target=data2[nume]\n",
    "#imgs=reformat(bdd_orig[nume:nume+1])\n",
    "#plt.subplot(121)\n",
    "#plt.imshow(img[:,:,1],cmap=\"gray\"); plt.axis(\"off\")\n",
    "#plt.title(\"Pred: \"+str(classifier.predict(imgs)))\n",
    "#plt.subplot(122)\n",
    "#plt.imshow(target); plt.axis(\"off\")\n",
    "#plt.title('Mapa de oclusion')\n",
    "#plt.show()"
   ]
  }
 ],
 "metadata": {
  "kernelspec": {
   "display_name": "Python 3",
   "language": "python",
   "name": "python3"
  },
  "language_info": {
   "codemirror_mode": {
    "name": "ipython",
    "version": 3
   },
   "file_extension": ".py",
   "mimetype": "text/x-python",
   "name": "python",
   "nbconvert_exporter": "python",
   "pygments_lexer": "ipython3",
   "version": "3.7.3"
  }
 },
 "nbformat": 4,
 "nbformat_minor": 2
}
